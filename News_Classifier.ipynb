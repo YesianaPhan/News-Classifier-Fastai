{
  "nbformat": 4,
  "nbformat_minor": 0,
  "metadata": {
    "colab": {
      "name": "News Classifier.ipynb",
      "provenance": [],
      "collapsed_sections": [],
      "toc_visible": true,
      "authorship_tag": "ABX9TyPuOqc+SSK7zpcreK+idy41",
      "include_colab_link": true
    },
    "kernelspec": {
      "name": "python3",
      "display_name": "Python 3"
    },
    "accelerator": "GPU"
  },
  "cells": [
    {
      "cell_type": "markdown",
      "metadata": {
        "id": "view-in-github",
        "colab_type": "text"
      },
      "source": [
        "<a href=\"https://colab.research.google.com/github/YesianaPhan/News-Classifier-Fastai/blob/main/News_Classifier.ipynb\" target=\"_parent\"><img src=\"https://colab.research.google.com/assets/colab-badge.svg\" alt=\"Open In Colab\"/></a>"
      ]
    },
    {
      "cell_type": "markdown",
      "metadata": {
        "id": "N7GWYf5EAy9-"
      },
      "source": [
        "#News Dataset Classifier using fastai library"
      ]
    },
    {
      "cell_type": "code",
      "metadata": {
        "colab": {
          "base_uri": "https://localhost:8080/"
        },
        "id": "Gz5MmZjpwl3-",
        "outputId": "6e251a3b-7490-471a-d72e-e5a349cbca58"
      },
      "source": [
        "!pip install torch_nightly -f https://download.pytorch.org/whl/nightly/cu92/torch_nightly.html\r\n",
        "!pip install fastai"
      ],
      "execution_count": 1,
      "outputs": [
        {
          "output_type": "stream",
          "text": [
            "Looking in links: https://download.pytorch.org/whl/nightly/cu92/torch_nightly.html\n",
            "Collecting torch_nightly\n",
            "\u001b[?25l  Downloading https://download.pytorch.org/whl/nightly/cu92/torch_nightly-1.2.0.dev20190805%2Bcu92-cp37-cp37m-linux_x86_64.whl (704.8MB)\n",
            "\u001b[K     |████████████████████████████████| 704.8MB 25kB/s \n",
            "\u001b[?25hInstalling collected packages: torch-nightly\n",
            "Successfully installed torch-nightly-1.2.0.dev20190805+cu92\n",
            "Requirement already satisfied: fastai in /usr/local/lib/python3.7/dist-packages (1.0.61)\n",
            "Requirement already satisfied: bottleneck in /usr/local/lib/python3.7/dist-packages (from fastai) (1.3.2)\n",
            "Requirement already satisfied: spacy>=2.0.18; python_version < \"3.8\" in /usr/local/lib/python3.7/dist-packages (from fastai) (2.2.4)\n",
            "Requirement already satisfied: numexpr in /usr/local/lib/python3.7/dist-packages (from fastai) (2.7.3)\n",
            "Requirement already satisfied: pyyaml in /usr/local/lib/python3.7/dist-packages (from fastai) (3.13)\n",
            "Requirement already satisfied: Pillow in /usr/local/lib/python3.7/dist-packages (from fastai) (7.0.0)\n",
            "Requirement already satisfied: scipy in /usr/local/lib/python3.7/dist-packages (from fastai) (1.4.1)\n",
            "Requirement already satisfied: requests in /usr/local/lib/python3.7/dist-packages (from fastai) (2.23.0)\n",
            "Requirement already satisfied: matplotlib in /usr/local/lib/python3.7/dist-packages (from fastai) (3.2.2)\n",
            "Requirement already satisfied: torch>=1.0.0 in /usr/local/lib/python3.7/dist-packages (from fastai) (1.8.0+cu101)\n",
            "Requirement already satisfied: pandas in /usr/local/lib/python3.7/dist-packages (from fastai) (1.1.5)\n",
            "Requirement already satisfied: torchvision in /usr/local/lib/python3.7/dist-packages (from fastai) (0.9.0+cu101)\n",
            "Requirement already satisfied: beautifulsoup4 in /usr/local/lib/python3.7/dist-packages (from fastai) (4.6.3)\n",
            "Requirement already satisfied: packaging in /usr/local/lib/python3.7/dist-packages (from fastai) (20.9)\n",
            "Requirement already satisfied: nvidia-ml-py3 in /usr/local/lib/python3.7/dist-packages (from fastai) (7.352.0)\n",
            "Requirement already satisfied: numpy>=1.15 in /usr/local/lib/python3.7/dist-packages (from fastai) (1.19.5)\n",
            "Requirement already satisfied: fastprogress>=0.2.1 in /usr/local/lib/python3.7/dist-packages (from fastai) (1.0.0)\n",
            "Requirement already satisfied: cymem<2.1.0,>=2.0.2 in /usr/local/lib/python3.7/dist-packages (from spacy>=2.0.18; python_version < \"3.8\"->fastai) (2.0.5)\n",
            "Requirement already satisfied: catalogue<1.1.0,>=0.0.7 in /usr/local/lib/python3.7/dist-packages (from spacy>=2.0.18; python_version < \"3.8\"->fastai) (1.0.0)\n",
            "Requirement already satisfied: blis<0.5.0,>=0.4.0 in /usr/local/lib/python3.7/dist-packages (from spacy>=2.0.18; python_version < \"3.8\"->fastai) (0.4.1)\n",
            "Requirement already satisfied: wasabi<1.1.0,>=0.4.0 in /usr/local/lib/python3.7/dist-packages (from spacy>=2.0.18; python_version < \"3.8\"->fastai) (0.8.2)\n",
            "Requirement already satisfied: srsly<1.1.0,>=1.0.2 in /usr/local/lib/python3.7/dist-packages (from spacy>=2.0.18; python_version < \"3.8\"->fastai) (1.0.5)\n",
            "Requirement already satisfied: thinc==7.4.0 in /usr/local/lib/python3.7/dist-packages (from spacy>=2.0.18; python_version < \"3.8\"->fastai) (7.4.0)\n",
            "Requirement already satisfied: murmurhash<1.1.0,>=0.28.0 in /usr/local/lib/python3.7/dist-packages (from spacy>=2.0.18; python_version < \"3.8\"->fastai) (1.0.5)\n",
            "Requirement already satisfied: plac<1.2.0,>=0.9.6 in /usr/local/lib/python3.7/dist-packages (from spacy>=2.0.18; python_version < \"3.8\"->fastai) (1.1.3)\n",
            "Requirement already satisfied: tqdm<5.0.0,>=4.38.0 in /usr/local/lib/python3.7/dist-packages (from spacy>=2.0.18; python_version < \"3.8\"->fastai) (4.41.1)\n",
            "Requirement already satisfied: preshed<3.1.0,>=3.0.2 in /usr/local/lib/python3.7/dist-packages (from spacy>=2.0.18; python_version < \"3.8\"->fastai) (3.0.5)\n",
            "Requirement already satisfied: setuptools in /usr/local/lib/python3.7/dist-packages (from spacy>=2.0.18; python_version < \"3.8\"->fastai) (54.0.0)\n",
            "Requirement already satisfied: urllib3!=1.25.0,!=1.25.1,<1.26,>=1.21.1 in /usr/local/lib/python3.7/dist-packages (from requests->fastai) (1.24.3)\n",
            "Requirement already satisfied: chardet<4,>=3.0.2 in /usr/local/lib/python3.7/dist-packages (from requests->fastai) (3.0.4)\n",
            "Requirement already satisfied: certifi>=2017.4.17 in /usr/local/lib/python3.7/dist-packages (from requests->fastai) (2020.12.5)\n",
            "Requirement already satisfied: idna<3,>=2.5 in /usr/local/lib/python3.7/dist-packages (from requests->fastai) (2.10)\n",
            "Requirement already satisfied: kiwisolver>=1.0.1 in /usr/local/lib/python3.7/dist-packages (from matplotlib->fastai) (1.3.1)\n",
            "Requirement already satisfied: cycler>=0.10 in /usr/local/lib/python3.7/dist-packages (from matplotlib->fastai) (0.10.0)\n",
            "Requirement already satisfied: pyparsing!=2.0.4,!=2.1.2,!=2.1.6,>=2.0.1 in /usr/local/lib/python3.7/dist-packages (from matplotlib->fastai) (2.4.7)\n",
            "Requirement already satisfied: python-dateutil>=2.1 in /usr/local/lib/python3.7/dist-packages (from matplotlib->fastai) (2.8.1)\n",
            "Requirement already satisfied: typing-extensions in /usr/local/lib/python3.7/dist-packages (from torch>=1.0.0->fastai) (3.7.4.3)\n",
            "Requirement already satisfied: pytz>=2017.2 in /usr/local/lib/python3.7/dist-packages (from pandas->fastai) (2018.9)\n",
            "Requirement already satisfied: importlib-metadata>=0.20; python_version < \"3.8\" in /usr/local/lib/python3.7/dist-packages (from catalogue<1.1.0,>=0.0.7->spacy>=2.0.18; python_version < \"3.8\"->fastai) (3.7.0)\n",
            "Requirement already satisfied: six in /usr/local/lib/python3.7/dist-packages (from cycler>=0.10->matplotlib->fastai) (1.15.0)\n",
            "Requirement already satisfied: zipp>=0.5 in /usr/local/lib/python3.7/dist-packages (from importlib-metadata>=0.20; python_version < \"3.8\"->catalogue<1.1.0,>=0.0.7->spacy>=2.0.18; python_version < \"3.8\"->fastai) (3.4.1)\n"
          ],
          "name": "stdout"
        }
      ]
    },
    {
      "cell_type": "code",
      "metadata": {
        "id": "rCDjk8vIwoRm"
      },
      "source": [
        "import fastai\r\n",
        "from fastai import *\r\n",
        "from fastai.text import * \r\n",
        "import pandas as pd\r\n",
        "import numpy as np"
      ],
      "execution_count": 2,
      "outputs": []
    },
    {
      "cell_type": "code",
      "metadata": {
        "colab": {
          "base_uri": "https://localhost:8080/"
        },
        "id": "FketzDRqHqMg",
        "outputId": "1c2b6499-e734-4f82-bd94-b1ac39336e9a"
      },
      "source": [
        "from google.colab import drive\r\n",
        "drive.mount('/content/gdrive', force_remount=True)\r\n",
        "root_dir = '/content/gdrive/My Drive/'\r\n",
        "path=Path(root_dir)"
      ],
      "execution_count": 3,
      "outputs": [
        {
          "output_type": "stream",
          "text": [
            "Mounted at /content/gdrive\n"
          ],
          "name": "stdout"
        }
      ]
    },
    {
      "cell_type": "code",
      "metadata": {
        "colab": {
          "base_uri": "https://localhost:8080/",
          "height": 217
        },
        "id": "yB5EcSBI0Wzr",
        "outputId": "54d11106-50ce-4051-8a63-a75423c10b1f"
      },
      "source": [
        "df = pd.read_csv(path/\"news.csv\")\r\n",
        "df = df.dropna()\r\n",
        "df = df.reset_index(drop = True)\r\n",
        "print(df.shape)\r\n",
        "df.head()"
      ],
      "execution_count": 4,
      "outputs": [
        {
          "output_type": "stream",
          "text": [
            "(100, 3)\n"
          ],
          "name": "stdout"
        },
        {
          "output_type": "execute_result",
          "data": {
            "text/html": [
              "<div>\n",
              "<style scoped>\n",
              "    .dataframe tbody tr th:only-of-type {\n",
              "        vertical-align: middle;\n",
              "    }\n",
              "\n",
              "    .dataframe tbody tr th {\n",
              "        vertical-align: top;\n",
              "    }\n",
              "\n",
              "    .dataframe thead th {\n",
              "        text-align: right;\n",
              "    }\n",
              "</style>\n",
              "<table border=\"1\" class=\"dataframe\">\n",
              "  <thead>\n",
              "    <tr style=\"text-align: right;\">\n",
              "      <th></th>\n",
              "      <th>title</th>\n",
              "      <th>text</th>\n",
              "      <th>category</th>\n",
              "    </tr>\n",
              "  </thead>\n",
              "  <tbody>\n",
              "    <tr>\n",
              "      <th>0</th>\n",
              "      <td>moeldoko harap seni budaya bisa jadi magnet ku...</td>\n",
              "      <td>Kepala Staf Kepresidenan RI Jenderal TNI (Pur...</td>\n",
              "      <td>Culture</td>\n",
              "    </tr>\n",
              "    <tr>\n",
              "      <th>1</th>\n",
              "      <td>seniman palestina sulap tembakan israel jadi k...</td>\n",
              "      <td>Berbeda dari seniman pada umumnya, seorang se...</td>\n",
              "      <td>Culture</td>\n",
              "    </tr>\n",
              "    <tr>\n",
              "      <th>2</th>\n",
              "      <td>sontek cara 56 kreator berpengaruh di dunia ci...</td>\n",
              "      <td>, menjadi modal utama yang harus dimiliki tia...</td>\n",
              "      <td>Culture</td>\n",
              "    </tr>\n",
              "    <tr>\n",
              "      <th>3</th>\n",
              "      <td>intip pertunjukan fashion dalam balutan seni t...</td>\n",
              "      <td>Dari Sabang sampai Merauke, Indonesia menawar...</td>\n",
              "      <td>Culture</td>\n",
              "    </tr>\n",
              "    <tr>\n",
              "      <th>4</th>\n",
              "      <td>kenang benyamin sueb teater abnon gelar pement...</td>\n",
              "      <td>Benyamin Suaeb bukan hanya sekadar nama. Soso...</td>\n",
              "      <td>Culture</td>\n",
              "    </tr>\n",
              "  </tbody>\n",
              "</table>\n",
              "</div>"
            ],
            "text/plain": [
              "                                               title  ... category\n",
              "0  moeldoko harap seni budaya bisa jadi magnet ku...  ...  Culture\n",
              "1  seniman palestina sulap tembakan israel jadi k...  ...  Culture\n",
              "2  sontek cara 56 kreator berpengaruh di dunia ci...  ...  Culture\n",
              "3  intip pertunjukan fashion dalam balutan seni t...  ...  Culture\n",
              "4  kenang benyamin sueb teater abnon gelar pement...  ...  Culture\n",
              "\n",
              "[5 rows x 3 columns]"
            ]
          },
          "metadata": {
            "tags": []
          },
          "execution_count": 4
        }
      ]
    },
    {
      "cell_type": "code",
      "metadata": {
        "colab": {
          "base_uri": "https://localhost:8080/",
          "height": 352
        },
        "id": "xeOshOa20Yt-",
        "outputId": "bf098843-cd5a-4fd3-c48d-21d93a304368"
      },
      "source": [
        "df[\"text_lower\"] = df[\"text\"].str.lower()\r\n",
        "df[\"text_no_char\"] = df[\"text_lower\"].str.replace(r'[^a-zA-Z\\s]+', '')\r\n",
        "df.head()"
      ],
      "execution_count": 5,
      "outputs": [
        {
          "output_type": "execute_result",
          "data": {
            "text/html": [
              "<div>\n",
              "<style scoped>\n",
              "    .dataframe tbody tr th:only-of-type {\n",
              "        vertical-align: middle;\n",
              "    }\n",
              "\n",
              "    .dataframe tbody tr th {\n",
              "        vertical-align: top;\n",
              "    }\n",
              "\n",
              "    .dataframe thead th {\n",
              "        text-align: right;\n",
              "    }\n",
              "</style>\n",
              "<table border=\"1\" class=\"dataframe\">\n",
              "  <thead>\n",
              "    <tr style=\"text-align: right;\">\n",
              "      <th></th>\n",
              "      <th>title</th>\n",
              "      <th>text</th>\n",
              "      <th>category</th>\n",
              "      <th>text_lower</th>\n",
              "      <th>text_no_char</th>\n",
              "    </tr>\n",
              "  </thead>\n",
              "  <tbody>\n",
              "    <tr>\n",
              "      <th>0</th>\n",
              "      <td>moeldoko harap seni budaya bisa jadi magnet ku...</td>\n",
              "      <td>Kepala Staf Kepresidenan RI Jenderal TNI (Pur...</td>\n",
              "      <td>Culture</td>\n",
              "      <td>kepala staf kepresidenan ri jenderal tni (pur...</td>\n",
              "      <td>kepala staf kepresidenan ri jenderal tni purn...</td>\n",
              "    </tr>\n",
              "    <tr>\n",
              "      <th>1</th>\n",
              "      <td>seniman palestina sulap tembakan israel jadi k...</td>\n",
              "      <td>Berbeda dari seniman pada umumnya, seorang se...</td>\n",
              "      <td>Culture</td>\n",
              "      <td>berbeda dari seniman pada umumnya, seorang se...</td>\n",
              "      <td>berbeda dari seniman pada umumnya seorang sen...</td>\n",
              "    </tr>\n",
              "    <tr>\n",
              "      <th>2</th>\n",
              "      <td>sontek cara 56 kreator berpengaruh di dunia ci...</td>\n",
              "      <td>, menjadi modal utama yang harus dimiliki tia...</td>\n",
              "      <td>Culture</td>\n",
              "      <td>, menjadi modal utama yang harus dimiliki tia...</td>\n",
              "      <td>menjadi modal utama yang harus dimiliki tiap...</td>\n",
              "    </tr>\n",
              "    <tr>\n",
              "      <th>3</th>\n",
              "      <td>intip pertunjukan fashion dalam balutan seni t...</td>\n",
              "      <td>Dari Sabang sampai Merauke, Indonesia menawar...</td>\n",
              "      <td>Culture</td>\n",
              "      <td>dari sabang sampai merauke, indonesia menawar...</td>\n",
              "      <td>dari sabang sampai merauke indonesia menawark...</td>\n",
              "    </tr>\n",
              "    <tr>\n",
              "      <th>4</th>\n",
              "      <td>kenang benyamin sueb teater abnon gelar pement...</td>\n",
              "      <td>Benyamin Suaeb bukan hanya sekadar nama. Soso...</td>\n",
              "      <td>Culture</td>\n",
              "      <td>benyamin suaeb bukan hanya sekadar nama. soso...</td>\n",
              "      <td>benyamin suaeb bukan hanya sekadar nama sosok...</td>\n",
              "    </tr>\n",
              "  </tbody>\n",
              "</table>\n",
              "</div>"
            ],
            "text/plain": [
              "                                               title  ...                                       text_no_char\n",
              "0  moeldoko harap seni budaya bisa jadi magnet ku...  ...   kepala staf kepresidenan ri jenderal tni purn...\n",
              "1  seniman palestina sulap tembakan israel jadi k...  ...   berbeda dari seniman pada umumnya seorang sen...\n",
              "2  sontek cara 56 kreator berpengaruh di dunia ci...  ...    menjadi modal utama yang harus dimiliki tiap...\n",
              "3  intip pertunjukan fashion dalam balutan seni t...  ...   dari sabang sampai merauke indonesia menawark...\n",
              "4  kenang benyamin sueb teater abnon gelar pement...  ...   benyamin suaeb bukan hanya sekadar nama sosok...\n",
              "\n",
              "[5 rows x 5 columns]"
            ]
          },
          "metadata": {
            "tags": []
          },
          "execution_count": 5
        }
      ]
    },
    {
      "cell_type": "code",
      "metadata": {
        "colab": {
          "base_uri": "https://localhost:8080/"
        },
        "id": "NteuxfCu0b8G",
        "outputId": "0aaecd18-d590-41b4-8ab3-00caf90080c8"
      },
      "source": [
        "pip install Sastrawi"
      ],
      "execution_count": 6,
      "outputs": [
        {
          "output_type": "stream",
          "text": [
            "Collecting Sastrawi\n",
            "\u001b[?25l  Downloading https://files.pythonhosted.org/packages/6f/4b/bab676953da3103003730b8fcdfadbdd20f333d4add10af949dd5c51e6ed/Sastrawi-1.0.1-py2.py3-none-any.whl (209kB)\n",
            "\r\u001b[K     |█▋                              | 10kB 22.3MB/s eta 0:00:01\r\u001b[K     |███▏                            | 20kB 15.5MB/s eta 0:00:01\r\u001b[K     |████▊                           | 30kB 13.6MB/s eta 0:00:01\r\u001b[K     |██████▎                         | 40kB 12.8MB/s eta 0:00:01\r\u001b[K     |███████▉                        | 51kB 8.3MB/s eta 0:00:01\r\u001b[K     |█████████▍                      | 61kB 7.8MB/s eta 0:00:01\r\u001b[K     |███████████                     | 71kB 8.8MB/s eta 0:00:01\r\u001b[K     |████████████▌                   | 81kB 9.7MB/s eta 0:00:01\r\u001b[K     |██████████████                  | 92kB 9.0MB/s eta 0:00:01\r\u001b[K     |███████████████▋                | 102kB 8.0MB/s eta 0:00:01\r\u001b[K     |█████████████████▏              | 112kB 8.0MB/s eta 0:00:01\r\u001b[K     |██████████████████▊             | 122kB 8.0MB/s eta 0:00:01\r\u001b[K     |████████████████████▎           | 133kB 8.0MB/s eta 0:00:01\r\u001b[K     |█████████████████████▉          | 143kB 8.0MB/s eta 0:00:01\r\u001b[K     |███████████████████████▍        | 153kB 8.0MB/s eta 0:00:01\r\u001b[K     |█████████████████████████       | 163kB 8.0MB/s eta 0:00:01\r\u001b[K     |██████████████████████████▋     | 174kB 8.0MB/s eta 0:00:01\r\u001b[K     |████████████████████████████▏   | 184kB 8.0MB/s eta 0:00:01\r\u001b[K     |█████████████████████████████▊  | 194kB 8.0MB/s eta 0:00:01\r\u001b[K     |███████████████████████████████▎| 204kB 8.0MB/s eta 0:00:01\r\u001b[K     |████████████████████████████████| 215kB 8.0MB/s \n",
            "\u001b[?25hInstalling collected packages: Sastrawi\n",
            "Successfully installed Sastrawi-1.0.1\n"
          ],
          "name": "stdout"
        }
      ]
    },
    {
      "cell_type": "code",
      "metadata": {
        "colab": {
          "base_uri": "https://localhost:8080/"
        },
        "id": "YuhO29w_0cl-",
        "outputId": "4298af9f-e910-435b-edd3-0aa1a5fb68fd"
      },
      "source": [
        "import nltk\r\n",
        "nltk.download('stopwords')\r\n",
        "from nltk.corpus import stopwords\r\n",
        "\r\n",
        "stopwords1 = set(stopwords.words('indonesian'))\r\n",
        "print(stopwords1)"
      ],
      "execution_count": 7,
      "outputs": [
        {
          "output_type": "stream",
          "text": [
            "[nltk_data] Downloading package stopwords to /root/nltk_data...\n",
            "[nltk_data]   Unzipping corpora/stopwords.zip.\n",
            "{'beginian', 'sekalian', 'berturut', 'sesudah', 'sekadarnya', 'setengah', 'diperkirakan', 'bawah', 'terlalu', 'menginginkan', 'berlangsung', 'terakhir', 'untuk', 'segera', 'diakhirinya', 'mendapatkan', 'seketika', 'jelaskan', 'berkata', 'bung', 'wong', 'begini', 'diri', 'asal', 'belakangan', 'dikatakan', 'masing-masing', 'sedang', 'terhadapnya', 'enggaknya', 'menuturkan', 'terjadinya', 'menghendaki', 'sesama', 'atas', 'semata-mata', 'sepantasnya', 'semakin', 'terjadilah', 'amatlah', 'jika', 'tempat', 'ibu', 'ingin', 'pantas', 'percuma', 'berkeinginan', 'dini', 'sinilah', 'pertanyakan', 'berakhirlah', 'masihkah', 'guna', 'bermacam', 'bekerja', 'waktu', 'bersama', 'sejak', 'ujar', 'kamilah', 'masalah', 'cara', 'mengatakannya', 'ada', 'dimaksudkan', 'gunakan', 'mungkin', 'ditunjukkannya', 'usah', 'seolah', 'para', 'tambah', 'selalu', 'sedemikian', 'seperti', 'agar', 'dipunyai', 'menanti', 'tandas', 'tersampaikan', 'menyatakan', 'berapakah', 'bersiap', 'suatu', 'tegas', 'pada', 'manakala', 'melalui', 'sebetulnya', 'inikah', 'bukan', 'diberikannya', 'ternyata', 'semacam', 'baik', 'berikan', 'jangan', 'bertanya', 'serta', 'sendiri', 'dikarenakan', 'diantara', 'bolehkah', 'se', 'tinggi', 'sebaiknya', 'apaan', 'dimaksudnya', 'berkali-kali', 'diucapkan', 'sebisanya', 'aku', 'berkenaan', 'semua', 'menurut', 'masing', 'diperbuat', 'sesuatu', 'akulah', 'besar', 'bila', 'menunjuk', 'misal', 'menyebutkan', 'apabila', 'sedikitnya', 'mendatangkan', 'jelaslah', 'diibaratkannya', 'karena', 'mengakhiri', 'kasus', 'hari', 'kan', 'sebabnya', 'diperbuatnya', 'berikut', 'anda', 'hampir', 'dengan', 'dituturkan', 'lainnya', 'semasih', 'ialah', 'mengerjakan', 'sepertinya', 'seringnya', 'tentang', 'segala', 'paling', 'berlainan', 'tegasnya', 'melainkan', 'kapanpun', 'menyangkut', 'misalkan', 'kesampaian', 'ibarat', 'apakah', 'sejauh', 'mempertanyakan', 'sebegitu', 'naik', 'dia', 'sekiranya', 'tunjuk', 'bagian', 'sebagainya', 'diakhiri', 'kata', 'katakanlah', 'sangat', 'janganlah', 'berawal', 'yang', 'setelah', 'empat', 'kebetulan', 'memihak', 'maka', 'semaunya', 'tandasnya', 'agak', 'sekecil', 'mereka', 'selama', 'sehingga', 'kedua', 'seolah-olah', 'akhiri', 'berapapun', 'padanya', 'perlu', 'dikerjakan', 'sebagaimana', 'benar', 'lama', 'cukup', 'ingat', 'sedikit', 'memisalkan', 'seluruhnya', 'sekadar', 'sela', 'antar', 'didatangkan', 'sekali', 'malahan', 'kira-kira', 'pula', 'sesudahnya', 'nyatanya', 'dulu', 'jelasnya', 'mengingatkan', 'seingat', 'ataukah', 'banyak', 'bersiap-siap', 'berlalu', 'pak', 'saya', 'menanyai', 'sebanyak', 'ini', 'dekat', 'menanya', 'ibaratnya', 'menjelaskan', 'merupakan', 'rupanya', 'diminta', 'tambahnya', 'di', 'menunjuki', 'mengungkapkan', 'penting', 'mengapa', 'melihatnya', 'adalah', 'pastilah', 'tersebutlah', 'lagian', 'sekali-kali', 'telah', 'lima', 'bagai', 'melihat', 'dari', 'jawab', 'kembali', 'diperlukan', 'nantinya', 'persoalan', 'segalanya', 'didapat', 'bukankah', 'antara', 'sesuatunya', 'pernah', 'sepantasnyalah', 'kinilah', 'hal', 'apa', 'jadilah', 'jauh', 'terdapat', 'bolehlah', 'mula', 'memang', 'tanyanya', 'masih', 'dimaksudkannya', 'ditunjuknya', 'minta', 'mulailah', 'tertuju', 'tertentu', 'soalnya', 'mendatangi', 'seorang', 'rata', 'menantikan', 'betul', 'berdatangan', 'mengenai', 'saling', 'bahwa', 'jadinya', 'mempergunakan', 'berada', 'kenapa', 'akhir', 'inginkan', 'manalagi', 'usai', 'teringat-ingat', 'dipergunakan', 'pentingnya', 'pasti', 'begitu', 'sekaligus', 'dimulai', 'sendirian', 'diungkapkan', 'olehnya', 'kelihatannya', 'artinya', 'dikatakannya', 'dimisalkan', 'itulah', 'kelamaan', 'belakang', 'meyakini', 'pertanyaan', 'sebelumnya', 'bertutur', 'oleh', 'dahulu', 'wah', 'semisal', 'baru', 'berjumlah', 'mampu', 'sekalipun', 'diperlihatkan', 'menjawab', 'ditunjuk', 'sambil', 'mungkinkah', 'tiba', 'adanya', 'seluruh', 'ditanyakan', 'benarkah', 'seusai', 'demikianlah', 'kepada', 'bakal', 'dimintai', 'bermaksud', 'diingat', 'jikalau', 'tadi', 'menanyakan', 'bagaimanakah', 'bersama-sama', 'haruslah', 'kira', 'serupa', 'kemungkinan', 'sampaikan', 'saat', 'tanpa', 'perlunya', 'sendirinya', 'tampak', 'kapan', 'demikian', 'mengira', 'mengucapkannya', 'ketika', 'betulkah', 'dimulainya', 'sesaat', 'punya', 'sana', 'disampaikan', 'nah', 'setibanya', 'tapi', 'jangankan', 'disebut', 'dipertanyakan', 'belumlah', 'dibuatnya', 'ditunjuki', 'sampai', 'digunakan', 'sepanjang', 'sesampai', 'awal', 'semata', 'beberapa', 'satu', 'tengah', 'diucapkannya', 'memperkirakan', 'sangatlah', 'kami', 'memintakan', 'awalnya', 'sekarang', 'merekalah', 'harus', 'tiap', 'sebaik-baiknya', 'bahwasanya', 'siapakah', 'meminta', 'maupun', 'dapat', 'keseluruhan', 'harusnya', 'berupa', 'terkira', 'terutama', 'terlihat', 'bermula', 'siapa', 'memberikan', 'masa', 'melakukan', 'tampaknya', 'diantaranya', 'secukupnya', 'seharusnya', 'bukanlah', 'diibaratkan', 'siap', 'kapankah', 'menunjuknya', 'ditanyai', 'mau', 'amat', 'dialah', 'sementara', 'agaknya', 'bilakah', 'tentulah', 'sebaik', 'disebutkan', 'dimungkinkan', 'semampu', 'inginkah', 'semuanya', 'dibuat', 'lamanya', 'sebut', 'khususnya', 'dilihat', 'menambahkan', 'menuju', 'saatnya', 'sekurangnya', 'soal', 'umum', 'adapun', 'atau', 'namun', 'nyaris', 'rasa', 'katakan', 'mengingat', 'mengatakan', 'padahal', 'dirinya', 'mendatang', 'nanti', 'ditandaskan', 'cuma', 'lah', 'memperbuat', 'terbanyak', 'mana', 'ditambahkan', 'ataupun', 'ditujukan', 'setiap', 'hingga', 'terdahulu', 'sebagian', 'setidaknya', 'sekitarnya', 'dimulailah', 'kelihatan', 'begitukah', 'macam', 'keluar', 'semisalnya', 'berikutnya', 'tidak', 'dijawab', 'bertanya-tanya', 'entah', 'balik', 'tahun', 'tentu', 'diketahuinya', 'kini', 'menegaskan', 'sepihak', 'sebutnya', 'hanyalah', 'selama-lamanya', 'seseorang', 'sebutlah', 'justru', 'sudahkah', 'tiga', 'juga', 'dan', 'masalahnya', 'membuat', 'terdiri', 'sebelum', 'sudahlah', 'dilakukan', 'terhadap', 'katanya', 'kamu', 'lanjut', 'dipersoalkan', 'ibaratkan', 'sebesar', 'tiba-tiba', 'ingat-ingat', 'jawabnya', 'apalagi', 'siapapun', 'lain', 'kelima', 'terjadi', 'malah', 'ikut', 'cukuplah', 'lalu', 'pertama', 'menaiki', 'menyampaikan', 'sayalah', 'setiba', 'lanjutnya', 'menunjukkan', 'berturut-turut', 'ucapnya', 'bisa', 'walau', 'pihak', 'benarlah', 'sering', 'kecil', 'berakhir', 'berbagai', 'sejenak', 'beri', 'termasuk', 'pihaknya', 'dijelaskan', 'mengucapkan', 'ia', 'bulan', 'kalaupun', 'perlukah', 'yakni', 'dilalui', 'umumnya', 'dikira', 'terlebih', 'kemungkinannya', 'pertama-tama', 'setidak-tidaknya', 'sebab', 'makanya', 'keinginan', 'bagi', 'panjang', 'hendak', 'tadinya', 'begitupun', 'sesekali', 'memperlihatkan', 'apatah', 'caranya', 'ditegaskan', 'mendapat', 'jumlah', 'semampunya', 'diberikan', 'tuturnya', 'disini', 'sudah', 'saja', 'akan', 'berapalah', 'sebegini', 'sesegera', 'depan', 'lagi', 'mempunyai', 'biasanya', 'teringat', 'mirip', 'mulanya', 'selanjutnya', 'lewat', 'terasa', 'sekitar', 'waduh', 'hanya', 'bagaimanapun', 'kala', 'memerlukan', 'disinilah', 'setinggi', 'selaku', 'yakin', 'demi', 'sampai-sampai', 'jadi', 'menandaskan', 'mengibaratkannya', 'tahu', 'terus', 'ungkapnya', 'sini', 'mengetahui', 'selain', 'mulai', 'dipastikan', 'sedangkan', 'tanya', 'toh', 'tidakkah', 'sebaliknya', 'kitalah', 'tetap', 'waktunya', 'beginikah', 'dimaksud', 'rasanya', 'dalam', 'ditanya', 'semasa', 'menggunakan', 'memastikan', 'secara', 'ujarnya', 'hendaknya', 'kepadanya', 'bukannya', 'hendaklah', 'tersebut', 'keadaan', 'keterlaluan', 'selamanya', 'memulai', 'berujar', 'kalian', 'akankah', 'dituturkannya', 'tak', 'biasa', 'jelas', 'sekurang-kurangnya', 'diperlukannya', 'diketahui', 'kalau', 'bagaikan', 'walaupun', 'beginilah', 'buat', 'jumlahnya', 'itukah', 'diingatkan', 'berarti', 'makin', 'mengibaratkan', 'meyakinkan', 'misalnya', 'bagaimana', 'kurang', 'mampukah', 'berakhirnya', 'berlebihan', 'menjadi', 'mempersiapkan', 'menyiapkan', 'tidaklah', 'menyeluruh', 'bisakah', 'tutur', 'boleh', 'cukupkah', 'inilah', 'keduanya', 'akhirnya', 'sewaktu', 'datang', 'sebenarnya', 'sebagai', 'pukul', 'setempat', 'kalaulah', 'jawaban', 'kamulah', 'dijelaskannya', 'entahlah', 'diberi', 'karenanya', 'wahai', 'kemudian', 'supaya', 'sebuah', 'mempersoalkan', 'bapak', 'begitulah', 'berapa', 'enggak', 'menanti-nanti', 'pun', 'sajalah', 'andalah', 'tentunya', 'seenaknya', 'kita', 'berkehendak', 'memungkinkan', 'tepat', 'yaitu', 'kok', 'ke', 'daripada', 'bahkan', 'ungkap', 'bakalan', 'dua', 'semula', 'tetapi', 'lebih', 'keseluruhannya', 'sama-sama', 'bermacam-macam', 'antaranya', 'itu', 'diinginkan', 'luar', 'memberi', 'merasa', 'seberapa', 'dong', 'seperlunya', 'disebutkannya', 'ucap', 'ditunjukkan', 'meskipun', 'sama', 'per', 'sejumlah', 'belum', 'kiranya', 'sempat', 'seterusnya', 'tanyakan', 'turut', 'meski', 'asalkan'}\n"
          ],
          "name": "stdout"
        }
      ]
    },
    {
      "cell_type": "code",
      "metadata": {
        "colab": {
          "base_uri": "https://localhost:8080/",
          "height": 437
        },
        "id": "KN0Vnj820feP",
        "outputId": "2af7bb14-ca43-449f-b35c-515010488c46"
      },
      "source": [
        "def rmv_stopwords(text):\r\n",
        "    return \" \".join([word for word in str(text).split() if word not in stopwords1])\r\n",
        "df[\"text_no_stop\"] = df[\"text_no_char\"].apply(lambda text: rmv_stopwords(text))\r\n",
        "df.head()"
      ],
      "execution_count": 8,
      "outputs": [
        {
          "output_type": "execute_result",
          "data": {
            "text/html": [
              "<div>\n",
              "<style scoped>\n",
              "    .dataframe tbody tr th:only-of-type {\n",
              "        vertical-align: middle;\n",
              "    }\n",
              "\n",
              "    .dataframe tbody tr th {\n",
              "        vertical-align: top;\n",
              "    }\n",
              "\n",
              "    .dataframe thead th {\n",
              "        text-align: right;\n",
              "    }\n",
              "</style>\n",
              "<table border=\"1\" class=\"dataframe\">\n",
              "  <thead>\n",
              "    <tr style=\"text-align: right;\">\n",
              "      <th></th>\n",
              "      <th>title</th>\n",
              "      <th>text</th>\n",
              "      <th>category</th>\n",
              "      <th>text_lower</th>\n",
              "      <th>text_no_char</th>\n",
              "      <th>text_no_stop</th>\n",
              "    </tr>\n",
              "  </thead>\n",
              "  <tbody>\n",
              "    <tr>\n",
              "      <th>0</th>\n",
              "      <td>moeldoko harap seni budaya bisa jadi magnet ku...</td>\n",
              "      <td>Kepala Staf Kepresidenan RI Jenderal TNI (Pur...</td>\n",
              "      <td>Culture</td>\n",
              "      <td>kepala staf kepresidenan ri jenderal tni (pur...</td>\n",
              "      <td>kepala staf kepresidenan ri jenderal tni purn...</td>\n",
              "      <td>kepala staf kepresidenan ri jenderal tni purn ...</td>\n",
              "    </tr>\n",
              "    <tr>\n",
              "      <th>1</th>\n",
              "      <td>seniman palestina sulap tembakan israel jadi k...</td>\n",
              "      <td>Berbeda dari seniman pada umumnya, seorang se...</td>\n",
              "      <td>Culture</td>\n",
              "      <td>berbeda dari seniman pada umumnya, seorang se...</td>\n",
              "      <td>berbeda dari seniman pada umumnya seorang sen...</td>\n",
              "      <td>berbeda seniman seniman majdy abu tagiyya menc...</td>\n",
              "    </tr>\n",
              "    <tr>\n",
              "      <th>2</th>\n",
              "      <td>sontek cara 56 kreator berpengaruh di dunia ci...</td>\n",
              "      <td>, menjadi modal utama yang harus dimiliki tia...</td>\n",
              "      <td>Culture</td>\n",
              "      <td>, menjadi modal utama yang harus dimiliki tia...</td>\n",
              "      <td>menjadi modal utama yang harus dimiliki tiap...</td>\n",
              "      <td>modal utama dimiliki orang berkembang bidang d...</td>\n",
              "    </tr>\n",
              "    <tr>\n",
              "      <th>3</th>\n",
              "      <td>intip pertunjukan fashion dalam balutan seni t...</td>\n",
              "      <td>Dari Sabang sampai Merauke, Indonesia menawar...</td>\n",
              "      <td>Culture</td>\n",
              "      <td>dari sabang sampai merauke, indonesia menawar...</td>\n",
              "      <td>dari sabang sampai merauke indonesia menawark...</td>\n",
              "      <td>sabang merauke indonesia menawarkan keindahan ...</td>\n",
              "    </tr>\n",
              "    <tr>\n",
              "      <th>4</th>\n",
              "      <td>kenang benyamin sueb teater abnon gelar pement...</td>\n",
              "      <td>Benyamin Suaeb bukan hanya sekadar nama. Soso...</td>\n",
              "      <td>Culture</td>\n",
              "      <td>benyamin suaeb bukan hanya sekadar nama. soso...</td>\n",
              "      <td>benyamin suaeb bukan hanya sekadar nama sosok...</td>\n",
              "      <td>benyamin suaeb nama sosok seniman asli betawi ...</td>\n",
              "    </tr>\n",
              "  </tbody>\n",
              "</table>\n",
              "</div>"
            ],
            "text/plain": [
              "                                               title  ...                                       text_no_stop\n",
              "0  moeldoko harap seni budaya bisa jadi magnet ku...  ...  kepala staf kepresidenan ri jenderal tni purn ...\n",
              "1  seniman palestina sulap tembakan israel jadi k...  ...  berbeda seniman seniman majdy abu tagiyya menc...\n",
              "2  sontek cara 56 kreator berpengaruh di dunia ci...  ...  modal utama dimiliki orang berkembang bidang d...\n",
              "3  intip pertunjukan fashion dalam balutan seni t...  ...  sabang merauke indonesia menawarkan keindahan ...\n",
              "4  kenang benyamin sueb teater abnon gelar pement...  ...  benyamin suaeb nama sosok seniman asli betawi ...\n",
              "\n",
              "[5 rows x 6 columns]"
            ]
          },
          "metadata": {
            "tags": []
          },
          "execution_count": 8
        }
      ]
    },
    {
      "cell_type": "code",
      "metadata": {
        "id": "cI8nW_Hd0gxo"
      },
      "source": [
        "from Sastrawi.Stemmer.StemmerFactory import StemmerFactory\r\n",
        "stemmer = StemmerFactory().create_stemmer()\r\n",
        "\r\n",
        "def stemming(text):\r\n",
        "  return \" \".join([stemmer.stem(word) for word in text.split()])\r\n",
        "\r\n",
        "df[\"clean_data\"] = df[\"text_no_stop\"].apply(lambda text: stemming(text))"
      ],
      "execution_count": 9,
      "outputs": []
    },
    {
      "cell_type": "code",
      "metadata": {
        "colab": {
          "base_uri": "https://localhost:8080/",
          "height": 199
        },
        "id": "AYg0erQE0saw",
        "outputId": "568b1e62-be0f-4117-a354-c2f8db6a6fec"
      },
      "source": [
        "df = df[[\"title\",\"clean_data\", \"category\"]]\r\n",
        "df.columns = [\"title\",\"text\",\"category\"]\r\n",
        "df.head()"
      ],
      "execution_count": 10,
      "outputs": [
        {
          "output_type": "execute_result",
          "data": {
            "text/html": [
              "<div>\n",
              "<style scoped>\n",
              "    .dataframe tbody tr th:only-of-type {\n",
              "        vertical-align: middle;\n",
              "    }\n",
              "\n",
              "    .dataframe tbody tr th {\n",
              "        vertical-align: top;\n",
              "    }\n",
              "\n",
              "    .dataframe thead th {\n",
              "        text-align: right;\n",
              "    }\n",
              "</style>\n",
              "<table border=\"1\" class=\"dataframe\">\n",
              "  <thead>\n",
              "    <tr style=\"text-align: right;\">\n",
              "      <th></th>\n",
              "      <th>title</th>\n",
              "      <th>text</th>\n",
              "      <th>category</th>\n",
              "    </tr>\n",
              "  </thead>\n",
              "  <tbody>\n",
              "    <tr>\n",
              "      <th>0</th>\n",
              "      <td>moeldoko harap seni budaya bisa jadi magnet ku...</td>\n",
              "      <td>kepala staf presiden ri jenderal tni purn dr m...</td>\n",
              "      <td>Culture</td>\n",
              "    </tr>\n",
              "    <tr>\n",
              "      <th>1</th>\n",
              "      <td>seniman palestina sulap tembakan israel jadi k...</td>\n",
              "      <td>beda seniman seniman majdy abu tagiyya cipta k...</td>\n",
              "      <td>Culture</td>\n",
              "    </tr>\n",
              "    <tr>\n",
              "      <th>2</th>\n",
              "      <td>sontek cara 56 kreator berpengaruh di dunia ci...</td>\n",
              "      <td>modal utama milik orang kembang bidang gelut l...</td>\n",
              "      <td>Culture</td>\n",
              "    </tr>\n",
              "    <tr>\n",
              "      <th>3</th>\n",
              "      <td>intip pertunjukan fashion dalam balutan seni t...</td>\n",
              "      <td>sabang merauke indonesia tawar indah alam puka...</td>\n",
              "      <td>Culture</td>\n",
              "    </tr>\n",
              "    <tr>\n",
              "      <th>4</th>\n",
              "      <td>kenang benyamin sueb teater abnon gelar pement...</td>\n",
              "      <td>benyamin suaeb nama sosok seniman asli betawi ...</td>\n",
              "      <td>Culture</td>\n",
              "    </tr>\n",
              "  </tbody>\n",
              "</table>\n",
              "</div>"
            ],
            "text/plain": [
              "                                               title  ... category\n",
              "0  moeldoko harap seni budaya bisa jadi magnet ku...  ...  Culture\n",
              "1  seniman palestina sulap tembakan israel jadi k...  ...  Culture\n",
              "2  sontek cara 56 kreator berpengaruh di dunia ci...  ...  Culture\n",
              "3  intip pertunjukan fashion dalam balutan seni t...  ...  Culture\n",
              "4  kenang benyamin sueb teater abnon gelar pement...  ...  Culture\n",
              "\n",
              "[5 rows x 3 columns]"
            ]
          },
          "metadata": {
            "tags": []
          },
          "execution_count": 10
        }
      ]
    },
    {
      "cell_type": "code",
      "metadata": {
        "id": "EzKnfUh9Bx44"
      },
      "source": [
        "input_train = df.loc[30:55, 'text']\r\n",
        "target_train = df.loc[30:55, 'category']\r\n",
        "input_val = df.loc[70:100, 'text']\r\n",
        "target_val = df.loc[70:100, 'category']"
      ],
      "execution_count": 11,
      "outputs": []
    },
    {
      "cell_type": "code",
      "metadata": {
        "id": "dokWnczh2Enl"
      },
      "source": [
        "train_texts = input_train.values\r\n",
        "train_labels = target_train.values\r\n",
        "val_texts = input_val.values\r\n",
        "val_labels = target_val.values\r\n",
        "np.random.seed(15)\r\n",
        "\r\n",
        "train_idx = np.random.permutation(len(train_texts))\r\n",
        "val_idx = np.random.permutation(len(val_texts))\r\n",
        "\r\n",
        "train_texts = train_texts[train_idx]\r\n",
        "val_texts = val_texts[val_idx]\r\n",
        "train_labels = train_labels[train_idx]\r\n",
        "val_labels = val_labels[val_idx]\r\n",
        "col_names = ['text','category']\r\n",
        "\r\n",
        "train = pd.DataFrame({'text':train_texts, 'category':train_labels}, columns=col_names)\r\n",
        "val = pd.DataFrame({'text':val_texts, 'category':val_labels}, columns=col_names)"
      ],
      "execution_count": 12,
      "outputs": []
    },
    {
      "cell_type": "code",
      "metadata": {
        "colab": {
          "base_uri": "https://localhost:8080/",
          "height": 17
        },
        "id": "dxxTu-y52Fa2",
        "outputId": "2ed47ecc-2e63-412a-9ba7-b005740615e2"
      },
      "source": [
        "data_lm = TextLMDataBunch.from_df('/', train_df=train, valid_df=val)"
      ],
      "execution_count": 13,
      "outputs": [
        {
          "output_type": "display_data",
          "data": {
            "text/html": [
              ""
            ],
            "text/plain": [
              "<IPython.core.display.HTML object>"
            ]
          },
          "metadata": {
            "tags": []
          }
        },
        {
          "output_type": "display_data",
          "data": {
            "text/html": [
              ""
            ],
            "text/plain": [
              "<IPython.core.display.HTML object>"
            ]
          },
          "metadata": {
            "tags": []
          }
        }
      ]
    },
    {
      "cell_type": "code",
      "metadata": {
        "colab": {
          "base_uri": "https://localhost:8080/",
          "height": 539
        },
        "id": "8vkCOFR32J1E",
        "outputId": "08ffa8a5-2ad8-4c4e-c2ea-fea9ff070307"
      },
      "source": [
        "data_lm.show_batch()"
      ],
      "execution_count": 14,
      "outputs": [
        {
          "output_type": "display_data",
          "data": {
            "text/html": [
              "<table border=\"1\" class=\"dataframe\">\n",
              "  <thead>\n",
              "    <tr style=\"text-align: right;\">\n",
              "      <th>idx</th>\n",
              "      <th>text</th>\n",
              "    </tr>\n",
              "  </thead>\n",
              "  <tbody>\n",
              "    <tr>\n",
              "      <td>0</td>\n",
              "      <td>xxmaj culture xxbos xxmaj kesehatan xxbos xxmaj culture xxbos xxmaj culture xxbos xxmaj kesehatan xxbos xxmaj culture xxbos xxmaj culture xxbos xxmaj culture xxbos xxmaj kesehatan xxbos xxmaj culture xxbos xxmaj culture xxbos xxmaj kesehatan xxbos xxmaj culture xxbos xxmaj culture xxbos xxmaj culture xxbos xxmaj culture xxbos xxmaj kesehatan xxbos xxmaj kesehatan xxbos xxmaj culture xxbos xxmaj culture xxbos xxmaj culture xxbos xxmaj culture xxbos xxmaj culture xxbos xxmaj</td>\n",
              "    </tr>\n",
              "    <tr>\n",
              "      <td>1</td>\n",
              "      <td>culture xxbos xxmaj kesehatan xxbos xxmaj culture xxbos xxmaj culture xxbos xxmaj kesehatan xxbos xxmaj culture xxbos xxmaj culture xxbos xxmaj culture xxbos xxmaj kesehatan xxbos xxmaj culture xxbos xxmaj culture xxbos xxmaj kesehatan xxbos xxmaj culture xxbos xxmaj culture xxbos xxmaj culture xxbos xxmaj culture xxbos xxmaj kesehatan xxbos xxmaj kesehatan xxbos xxmaj culture xxbos xxmaj culture xxbos xxmaj culture xxbos xxmaj culture xxbos xxmaj culture xxbos xxmaj culture</td>\n",
              "    </tr>\n",
              "    <tr>\n",
              "      <td>2</td>\n",
              "      <td>xxbos xxmaj kesehatan xxbos xxmaj culture xxbos xxmaj culture xxbos xxmaj kesehatan xxbos xxmaj culture xxbos xxmaj culture xxbos xxmaj culture xxbos xxmaj kesehatan xxbos xxmaj culture xxbos xxmaj culture xxbos xxmaj kesehatan xxbos xxmaj culture xxbos xxmaj culture xxbos xxmaj culture xxbos xxmaj culture xxbos xxmaj kesehatan xxbos xxmaj kesehatan xxbos xxmaj culture xxbos xxmaj culture xxbos xxmaj culture xxbos xxmaj culture xxbos xxmaj culture xxbos xxmaj culture xxbos</td>\n",
              "    </tr>\n",
              "    <tr>\n",
              "      <td>3</td>\n",
              "      <td>xxmaj kesehatan xxbos xxmaj culture xxbos xxmaj culture xxbos xxmaj kesehatan xxbos xxmaj culture xxbos xxmaj culture xxbos xxmaj culture xxbos xxmaj kesehatan xxbos xxmaj culture xxbos xxmaj culture xxbos xxmaj kesehatan xxbos xxmaj culture xxbos xxmaj culture xxbos xxmaj culture xxbos xxmaj culture xxbos xxmaj kesehatan xxbos xxmaj kesehatan xxbos xxmaj culture xxbos xxmaj culture xxbos xxmaj culture xxbos xxmaj culture xxbos xxmaj culture xxbos xxmaj culture xxbos xxmaj</td>\n",
              "    </tr>\n",
              "    <tr>\n",
              "      <td>4</td>\n",
              "      <td>kesehatan xxbos xxmaj culture xxbos xxmaj culture xxbos xxmaj kesehatan xxbos xxmaj culture xxbos xxmaj culture xxbos xxmaj culture xxbos xxmaj kesehatan xxbos xxmaj culture xxbos xxmaj culture xxbos xxmaj kesehatan xxbos xxmaj culture xxbos xxmaj culture xxbos xxmaj culture xxbos xxmaj culture xxbos xxmaj kesehatan xxbos xxmaj kesehatan xxbos xxmaj culture xxbos xxmaj culture xxbos xxmaj culture xxbos xxmaj culture xxbos xxmaj culture xxbos xxmaj culture xxbos xxmaj culture</td>\n",
              "    </tr>\n",
              "  </tbody>\n",
              "</table>"
            ],
            "text/plain": [
              "<IPython.core.display.HTML object>"
            ]
          },
          "metadata": {
            "tags": []
          }
        }
      ]
    },
    {
      "cell_type": "code",
      "metadata": {
        "colab": {
          "base_uri": "https://localhost:8080/",
          "height": 107
        },
        "id": "bfCOIc3a2MsK",
        "outputId": "83ae114a-bb38-4675-a52d-9a52f3ed477d"
      },
      "source": [
        "# Classifier model data\r\n",
        "data_class = TextClasDataBunch.from_df(path = path, train_df =train, valid_df =val, vocab=data_lm.train_ds.vocab, bs=22)"
      ],
      "execution_count": 15,
      "outputs": [
        {
          "output_type": "display_data",
          "data": {
            "text/html": [
              ""
            ],
            "text/plain": [
              "<IPython.core.display.HTML object>"
            ]
          },
          "metadata": {
            "tags": []
          }
        },
        {
          "output_type": "display_data",
          "data": {
            "text/html": [
              ""
            ],
            "text/plain": [
              "<IPython.core.display.HTML object>"
            ]
          },
          "metadata": {
            "tags": []
          }
        },
        {
          "output_type": "stream",
          "text": [
            "/usr/local/lib/python3.7/dist-packages/fastai/data_block.py:541: UserWarning: You are labelling your items with CategoryList.\n",
            "Your valid set contained the following unknown labels, the corresponding items have been discarded.\n",
            "juli warga miskin gakin malang raya manfaat layan jamin sehat masyarakat jamkesmas jamkesmas ganti asuransi sehat rakyat miskin askeskin sebelumnyamulai juli layan sehat masyarakat butuh jamkesmas jamkesmas masyarakat bebas biaya awat sesuai tentu tetap perintah direktur rumah sakit saiful anwar rssa malang malang raya total jiwa terima jamkesmas bagi kota malang jiwa kota batu jiwa kabupaten malang jiwakuota jamkesmas tentu perintah pusat dasar data bps tetap sk bupati wali kota daerah pawik masyarakat nilai miskin bebas biaya kesehatanmenurut kepala cabang pt askes kota malang dr roni kurnia masyarakat milik kartu jamkesmas data depkes ri manfaat obat gratis jamkesmasada kota malang kuota jamkesmas orang orang biaya perintah pusat untung pemkot malang tanggung biaya lebih kuota ronironi pt askes cetak kartu jamkesmas minggu tiga juli kartu selesai distribusi tuntas agustus ronironi tunggu selesai kartu juli agustus masyarakat surat terang sktm periksa rumahrumah sakit swasta sedia layan jamkesmas orang sktm terima fasilitas jamkesmas daftar layan status masyarakat biaya perintah daerah imbuh ronidalam jelas pawik roni umu mseluru hpenyakit layan fasilitas jamkesmas masyarakat tarik biasaya perhati tentu layan sehat layan jamkesmas imbuh pawiksejumlah layan sehat layan fasilitas jamkesmas pawik bahan alat periksa kait kosmetik buat gigi tiru obat alternatif rangkai periksa cari turun impoten bayi tabung sakit jamin jamkesmas, jamin sehat masyarakat rencana laku laksana beda program asuransi sehat masyarakat miskin dana jamkesmas pegang pt askes audit kait bengkak klaim askes rp triliun menkes siti fadilah supari heran pihakpihak tuju laksana jamkesmas upaya meminimalisir korupsi kolusi askeskin rawan potensi korupsi simpang mekanisme antikorupsi tuju mekanisme antikorupsi askeskin aneh menkes audit utang klaim askes rp triliun inspektur jenderal departemen sehat faiq bahfen audit jalan provinsiakan lihat hasil audit tagih tiri sesuai guna pasien rumah sakit beban askes penyalahgunaan surat terang faiq bahfen faiq bahfen hasil audit buka publik april bentuk tim auditor sebar provinsi juni harap audit diselesaikantidak khawatir hasil audit sekian bayar bayar siap dana wajib menkesselanjutnya tugas verifikasi program askeskin laksana pt askes serah verifikator independen awas inspektorat jenderal depkes serta badan periksa uang awas terusmenerus, direktur layan medik rs mohammad hoesin rsmh palembang bayu wahyudi selasa program jamkesmas perintah daerah bantu rumah sakit bayar klaim obatobatanmenurut bayu pasien jamkesmas beli obat daftar daftar plafon harga obat dpho akibat obat klaim jamkesmas perintah daerah harap bantu bayar obatobatan dpho harga mahalselain bayu kuota serta jamkesmas palembang lebih kuota departemen sehat lebih bantu perintah daerahsekarang ambil bijaksana pasien kelas iii obatobatan sesuai tunjuk departemen sehat askes perintah daerah turun tangan rumah sakit bantu persen bayumengenai tunjuk laksana jamkesmas bayu rsmh coba unduh tunjuk jamkesmas ditandatangani menteri sehat internet rsmh draf tunjuk jamkesmas ditandatangani menteri kesehataninformasi dengar draf tunjuk jamkesmas beda tunjuk ditandatangani pedoman askeskin bayu, tumbuh pasien derita gizi buruk gresik fifi indriyanti rahmanda normal berat badan standar senin fifi milik berat badan kilogram berat ideal kg kg rahmanda bobot kg ideal kgkeduanya jalan awat rumah sakit daerah gresik minggu orang tua korban anak pulang rumah sakit izin khawatir kondisi memburukfifi anak pasang sutomo sri maryati warga desa dranjang camat anti rahmanda anak pasang slamet narti warga desa tenaru camat driyorejo orang tua pasien samasama asal keluarga mampudokter rsud gresik tangan pasien dr subarkah kondisi derita prihatin pasien fifi periksa dokter anak rsud gresik alami gizi buruk tb tulang alami gi zi buruk tahun sebab kulit keriput perut buncit tulang punggung benjol fifi diinfussementara rsud gresik berani infus rahmanda fisik lemah derita alami sakit serta tb parutb kelenjar infeksi salur darah, komisi tanggulang aids kpa bal dewasa temu kendala upaya terap pakai kondom langkah cegah tular virus hiv sebab aidspadahal kondom sungguh milik peran janji hindar infeksi virus hivaids hubung seksual orang idap virus bahaya koordinator pokja rencana monitoring evaluasi kpa bal prof dr idn wirawan mph denpasar selasa rapat koordinasi kpa bal guru universitas udayana masyarakat anggap tabu malumalu kucing ajak bicara kondom masyarakat aku biasa pakai sarung kam hubung lawan jenisalasannya macammacam enak sreg gairah lainlain prof wirawanakibatnya berkalikali upaya masyarakat pakai kondom kalang wanita kerja seks komersial psk langgan temu hambat program kondomisasi mulus kalang prof wirawansenada prof wirawan prof dr dr tutty parwati sppd perhati aids lelaki suka jajan sedia kondom hubung badan wanita pskkenyataan beda thailand negara dunia lelaki sedia sarung kam hubung psk tuttydikatakan biasa pakai kondom hubung psk negara erat kait tentu laku negara sangkut thailand perintah tetap tentu kontak seksual psk wajib pakai kondomketentuan laku salah upaya cegah tular virus hivaids tular hubung seksual tutty upaya cegah tular virus hivaids perintah thailand tetap tentu kontak seksual psk wajib pakai kondomtutty harap pasang intim thailand langgan sedia kena kondom hubung badan negeri tetangga si langgan harus pakai kondom konsekuensi layan sedia maka tuttysementara indonesia tentu pakai wanita psk pasang sarung pengamanmenurut prof wirawan indonesia harus kena kondom hubung seksual sosialisasi sulit heran sebar virus hiv cepat negeri ininamun harap gera pakai kondom tualang seksual masyarakat cegah tular virus hivaids ancam ribu orang daerah...\n",
            "  if getattr(ds, 'warn', False): warn(ds.warn)\n"
          ],
          "name": "stderr"
        }
      ]
    },
    {
      "cell_type": "code",
      "metadata": {
        "colab": {
          "base_uri": "https://localhost:8080/",
          "height": 156
        },
        "id": "UICLvwXE2jVM",
        "outputId": "96084980-e3b5-42a5-a12b-b7e1e8a96cad"
      },
      "source": [
        "learn = language_model_learner(data_lm, arch=AWD_LSTM,drop_mult=0.3)\r\n",
        "learn.fit_one_cycle(3, 1e-2)"
      ],
      "execution_count": 16,
      "outputs": [
        {
          "output_type": "stream",
          "text": [
            "Downloading https://s3.amazonaws.com/fast-ai-modelzoo/wt103-fwd.tgz\n"
          ],
          "name": "stdout"
        },
        {
          "output_type": "display_data",
          "data": {
            "text/html": [
              ""
            ],
            "text/plain": [
              "<IPython.core.display.HTML object>"
            ]
          },
          "metadata": {
            "tags": []
          }
        },
        {
          "output_type": "display_data",
          "data": {
            "text/html": [
              "<table border=\"1\" class=\"dataframe\">\n",
              "  <thead>\n",
              "    <tr style=\"text-align: left;\">\n",
              "      <th>epoch</th>\n",
              "      <th>train_loss</th>\n",
              "      <th>valid_loss</th>\n",
              "      <th>accuracy</th>\n",
              "      <th>time</th>\n",
              "    </tr>\n",
              "  </thead>\n",
              "  <tbody>\n",
              "    <tr>\n",
              "      <td>0</td>\n",
              "      <td>3.216100</td>\n",
              "      <td>3.356262</td>\n",
              "      <td>0.585045</td>\n",
              "      <td>00:00</td>\n",
              "    </tr>\n",
              "    <tr>\n",
              "      <td>1</td>\n",
              "      <td>3.173298</td>\n",
              "      <td>3.189869</td>\n",
              "      <td>0.591518</td>\n",
              "      <td>00:00</td>\n",
              "    </tr>\n",
              "    <tr>\n",
              "      <td>2</td>\n",
              "      <td>2.896621</td>\n",
              "      <td>3.077504</td>\n",
              "      <td>0.640402</td>\n",
              "      <td>00:00</td>\n",
              "    </tr>\n",
              "  </tbody>\n",
              "</table>"
            ],
            "text/plain": [
              "<IPython.core.display.HTML object>"
            ]
          },
          "metadata": {
            "tags": []
          }
        }
      ]
    },
    {
      "cell_type": "code",
      "metadata": {
        "id": "8sVFi7qq2yeK"
      },
      "source": [
        "learn.save_encoder('ft_enc')"
      ],
      "execution_count": 17,
      "outputs": []
    },
    {
      "cell_type": "code",
      "metadata": {
        "colab": {
          "base_uri": "https://localhost:8080/"
        },
        "id": "1OK2F6EJ205Q",
        "outputId": "95955e26-a5f9-4611-fd59-b9ded776ab1d"
      },
      "source": [
        "classifier = text_classifier_learner(data_class, arch=AWD_LSTM, drop_mult=0.3)\r\n",
        "classifier.load_encoder('ft_enc')"
      ],
      "execution_count": 18,
      "outputs": [
        {
          "output_type": "execute_result",
          "data": {
            "text/plain": [
              "RNNLearner(data=TextClasDataBunch;\n",
              "\n",
              "Train: LabelList (26 items)\n",
              "x: TextList\n",
              "xxbos xxmaj culture,xxbos xxmaj kesehatan,xxbos xxmaj culture,xxbos xxmaj culture,xxbos xxmaj culture\n",
              "y: CategoryList\n",
              "keluarga raja duga dapat harga mahal milik arti maksud tersendiriseperti lansir anggota keluarga raja kate middleton ratu elizabeth pangeran harry meghan markle istimewa penasaran sajapangeran harry aktris meghan markle tunang rencana khusus raya natal pangeran harry ajak tunang libur calon keluarga baru berita berita baru update trsesaat meghan markle status tunang pangeran harry hadiah apron apron dapat pangeran harrykotak meruapakn hadiah ratu kotak emas gambar burung heron depan sembah jepangpada april obama hadiah ipod ratu eliabeth ipod isi pidato inagurasi obamabukan emas pangeran harry ratu elizabeth unik tulisanaint life a bitch hadiah natalpangeran harry kate middleton hadiah kejut main cleveland cavaliers basket tulis cambridge georgeratu elizabeth hadiah boneka wayang golek kunjung negara yogyakarta copyright kly kapanlagi youniverse all rights reserved,minggu kembang sakit mantan presiden soeharto berita utama media massa sembilan rawat rumah sakit pusat pertamina masuk januari kondisi sehat soeharto turunkabar tim dokter rawat soeharto kondisi kritis organorgan tubuh jantung ginjal paruparu fungsi batang otak sistem cerna bekerjasetiap organ tubuh peran sehat fungsi akibat lain organ ganggu sistem kerja tubuh contoh diare hebat tubuh kurang cair elektrolit tubuh usaha atas perintah ginjal kurang produksi urinejika kurang cair upaya hasil diare lanjut kurang cair atas picu gagal ginjal akut ganggu elektrolit salah satu kalium diare akut pengaruh irama jantung organ tubuh kait lainfungsi organ tubuh turun manusia tua usia fungsi organ tubuh nyata turun proses degeneratif umur tersebutpenurunan nyata tua ganggu sakit biasa dukung sehat merokoktadi diare akut picu gagal ginjal akut dehidrasi akibat diare atas cepat komposisi cair gagal ginjal akut normal ganggu ginjal sifat sementarapada gagal ginjal diabetes melitus kronis atas pelanpelan gagal ginjal terminal fase tindak hemodialisa peritoneal dialysis ginjal fungsi tindak medis atas gagal ginjal terminal cangkok ginjaldi indonesia gagal ginjal picu infeksi salur kemih batu salur kemih lupus eritematosus sistemik atur makan obat gagal ginjal kronis dampak fungsi ginjal turun gagal ginjal terminaljantung kena gagal jantung akut akibat anemia berat jantung tingkat frekuensi denyut jantung suplai oksigen tubuh terjaminketika bawa rumah sakit kadar hemoglobin harto persen gram normal persen gram upaya anemia berat obat ganggu fungsi jantung salah transfusi darahgangguan fungsi jantung akibat mati otot jantung timbul ganggu fungsi jantung tetap ubah anatomi otot jantung remodeling infark miokard luas fungsi jantung ganggu nyatapada sakit infeksi berat sepsis ganggu jantung turun tekan darah nyata akibat volume darah kurang alir darah kurang ginjal turun fungsi ginjal akibat otakgangguan jantung akibat pompa jantung adekuat potensial ganggu fungsi ginjal otak rusa organ tubuh ganggu multiorgan upaya atas ganggu multiorgan sulit ganggu organ tubuh ganggu orang usia hartountuk jaga fungsi organ tubuh cegah ganggu derita diabetes melitus jaga kadar gula kendali picu gagal ginjal derita lupus eritematosus sistemik patuh minum obat obat pengaruh fungsi ginjal hati hatifrekuensi denyut jantung rendah bradikardi dampak ketidakefektifan jantung pompa darah atas alat pacu jantung guna alat sifat menetapgangguan fungsi paruparu berat infeksi akibat suplai oksigen tubuh timbul mati atas adakalanya alat bantu napas ventilatorpemasangan alat bantu batas atas akibat fungsi batang otak derita nyata tinggal alat bantu dilepaspara teliti bidang dokter kembang terapi sel induk baru fungsi organ institut terapi sel universitas katolik korea teliti guna sel induk dewasa terapi stroke uji coba derita stroke hasil baik klinis persen derita derita lumpuh belah badan jalan uji coba batas hasil menggembirakandi amerika serikat hongkong australia terapi sel induk sakit jantung indikasi terapi derita infark miokard terapi infark miokard jantung tuju cegah remodeling harap sel miokard terapi miokardiopati indonesia sulit cangkok jantung terapi sel induk harap derita opsi terapi tolong biaya mahal risiko ringanrs cipto mangunkusumo rs dharmais kembang terapi sel induk terapi sel induk dewasa terapi infark miokard akut kembang terapi kaki diabetes sakit sendi guna terapi sel induk luas indonesia alam jaga sehat pelihara organ tubuh anugerah tuhan ternilaiprof dr samsuridjal,hidup enak mapan sisilia oei tetap melbourne australia terus bisnis marmer granit milik keluarga pilih nol diri sekolah indonesian dance theatre usia tahun januari ininama sisilia oei kesohor kalang tari piawai tari malu canggung tari usia tahunbaca jugabanyuwangi saksi bocah centil tuai prestasi sisil pindah jakarta usia tujuh sisil kuat sang mami masuk les tari tahun cari sisil bawa sekolah dipisahkansampaisampai orangtua sisil gelenggeleng kepala ya sakit sisil ngotot sekolah balet tonton jalan latih pinggir kelas rela tempuh jalan jam rumah sekolah daerah hayam wuruk jakarta pusat kendara umumwalau sakit rumah jam bolakbalik rumah les kendara urai sisil bincang balet nilai balet milik bule tari jago ngalahin struktur tulang beda tiru sisil pesan guru itusambil sentuh punggung kaki lengkung kaki sisil jabar beda bule asia bule indah tonjol asia kempes latih lebih postur tubuhsang guru sadar orang indonesia milik jati cinta mati balet kuasa tari indonesia wajib diri teguh sisil luntur ajar tari tradisional usia tahunaku untung guru ngingetin orang indonesia malu banget nari tradisional mati ajar balet milik ajar tari tradisional mudah fundamental bantu struktur sisil bersemangatdi indah gera tari balet tradisional siksa rasa tari sisil cerita bentuk tubuh langsing tantang sendiri bawa tari indonesiakalau tari bal mata melotot tari suruh ngeleluarin pantat shapenya langsing gin hahaha balet kaki darah kelupas dan samasama nang hati kenang seraya tertawajika negeri tari pandang belah mata negeri rasa sisil ambil jurus seni balet australian ballet school victoria college of the artsambil kuliah sisil balerina guru balet bayar lebih panggil hati indonesia kuat hidup mapan australiabayaran guru nari ambil seni balet harga keren banget istilah pandang belah mata honor angkat visi naik taraf hidup cinta seni harga tari seriusperjalanannya sekolah tari mudah impi tunda cokol bisnis keluarga bidang impor marmet granitsebenarnya sisil sepenuh tinggal tari rutinitas batas hidup tekad hati kuat sekolah taribisnis tuju hidup gaung hati gaung kuat percaya masingmasing hati berontak mecut mati siasia bikin apaapa generasi cerita bersemangatia sadar talenta tari tuhan bagi visi berani karya anak didik kelak naung sekolah tarinyajika sisil nama pribadi pakai brand sekolah tari iring jalan pikir beda cipta indonesian dance theatre tari disediakanmulai balet kontemporer jazz hip hop tren sisil ajak teman claudia warni bersamasama wujud visi maju seni indonesiaorang nonton tari durasi menit selesai latih berjamjam harga tari generasi wujud tunjuk musikal negeri indonesia masyarakat berani bayar mahal tonton semangat sisil rekan hadap tari tanah airsisil jabar tari indonesia komoditi mudah akses tari tampil televisi harga bayar rendahpadahal sisil tari latar nyanyi kenal masuk televisi negeri sungguh sulit lulus sekolah tari universitas tari ternamamaaf ya megalmegol dikit asalasalan narinya dapet duit harga murah tari kualitas tari bangun perlahan kelak kualitas tinggal realitas paparnyabelum imej tari stigma hidup bebas background citra dancer bawa tercemarorang hidup tari jelek budaya rusak kualitas bangun generasi hati mirisnyadi kerja rumah tugas emban maju tari indonesia sisil raya bayi indonesian dance theatre st anniversary acara tema ragam tari gelar januari concert hall usmar ismail jakartaselain tari sisil kolaborasi cinta seni desainer fotografer gandeng desainer indonesia nama desain kostum bawa penarisementara siap abadi foto kelak pamer exhibition jejer manekin busana desain penarisebuah seni harga packagingnya bagus tarik emas satu manja mata bikin penasaran janjinyacopyright kly kapanlagi youniverse all rights reserved,subcomandante marcos berontak meksiko adil tulis puisi katakata puisi sair protes kutuk ketidakadilan sair tanah air kenal sastrawan gemar bicara karyakarya puisi sair tanah air karya puisi palestina sayat hati susun tim senin baca jugadalam sejarah sastra indonesia taufik ismail masuk daftar sastrawan angkat karyakarya puisi cerita manusia konflik manusia palestina karya monumental tulis buku judul cerita pergola alih zaman orde orde undang konferensi tingkat organisasi kerja islam ktt oki baca puisi sambut hangat serta ktt okiberikut salah puisi taufik ismail palestina simak video berikuthelvy tiana rosa salah sastrawan perempuan indonesia angkat hakhak asasi manusia indonesia bahan dunia palestina sastrawan serba terima gudang harga komunitas kerap gelar acara solidaritas sastra palestina salah puisi palestina sayat hati pada berita palestinaberikut bunyi puisi seutuhnyaaktif jurnalis asep sambodja lakon profesi wartawan media tanah air pilih profesi dosen fakultas ilmu budaya universitas indonesia usia asep sambodja tinggal dunia karyakarya puisi kerap bicara manusia gaung palestina mendiang munirberikut puisi asep sambodja palestinacopyright kly kapanlagi youniverse all rights reserved,koh akwet seniman kaligrafi china koh akwet seniman kaligrafi chinacopyright kly kapanlagi youniverse all rights reserved\n",
              "Path: /content/gdrive/My Drive;\n",
              "\n",
              "Valid: LabelList (0 items)\n",
              "x: TextList\n",
              "\n",
              "y: CategoryList\n",
              "\n",
              "Path: /content/gdrive/My Drive;\n",
              "\n",
              "Test: None, model=SequentialRNN(\n",
              "  (0): MultiBatchEncoder(\n",
              "    (module): AWD_LSTM(\n",
              "      (encoder): Embedding(16, 400, padding_idx=1)\n",
              "      (encoder_dp): EmbeddingDropout(\n",
              "        (emb): Embedding(16, 400, padding_idx=1)\n",
              "      )\n",
              "      (rnns): ModuleList(\n",
              "        (0): WeightDropout(\n",
              "          (module): LSTM(400, 1152, batch_first=True)\n",
              "        )\n",
              "        (1): WeightDropout(\n",
              "          (module): LSTM(1152, 1152, batch_first=True)\n",
              "        )\n",
              "        (2): WeightDropout(\n",
              "          (module): LSTM(1152, 400, batch_first=True)\n",
              "        )\n",
              "      )\n",
              "      (input_dp): RNNDropout()\n",
              "      (hidden_dps): ModuleList(\n",
              "        (0): RNNDropout()\n",
              "        (1): RNNDropout()\n",
              "        (2): RNNDropout()\n",
              "      )\n",
              "    )\n",
              "  )\n",
              "  (1): PoolingLinearClassifier(\n",
              "    (layers): Sequential(\n",
              "      (0): BatchNorm1d(1200, eps=1e-05, momentum=0.1, affine=True, track_running_stats=True)\n",
              "      (1): Dropout(p=0.12, inplace=False)\n",
              "      (2): Linear(in_features=1200, out_features=50, bias=True)\n",
              "      (3): ReLU(inplace=True)\n",
              "      (4): BatchNorm1d(50, eps=1e-05, momentum=0.1, affine=True, track_running_stats=True)\n",
              "      (5): Dropout(p=0.1, inplace=False)\n",
              "      (6): Linear(in_features=50, out_features=26, bias=True)\n",
              "    )\n",
              "  )\n",
              "), opt_func=functools.partial(<class 'torch.optim.adam.Adam'>, betas=(0.9, 0.99)), loss_func=FlattenedLoss of CrossEntropyLoss(), metrics=[<function accuracy at 0x7f35d0576950>], true_wd=True, bn_wd=True, wd=0.01, train_bn=True, path=PosixPath('/content/gdrive/My Drive'), model_dir='models', callback_fns=[functools.partial(<class 'fastai.basic_train.Recorder'>, add_time=True, silent=False)], callbacks=[RNNTrainer\n",
              "learn: ...\n",
              "alpha: 2.0\n",
              "beta: 1.0], layer_groups=[Sequential(\n",
              "  (0): Embedding(16, 400, padding_idx=1)\n",
              "  (1): EmbeddingDropout(\n",
              "    (emb): Embedding(16, 400, padding_idx=1)\n",
              "  )\n",
              "), Sequential(\n",
              "  (0): WeightDropout(\n",
              "    (module): LSTM(400, 1152, batch_first=True)\n",
              "  )\n",
              "  (1): RNNDropout()\n",
              "), Sequential(\n",
              "  (0): WeightDropout(\n",
              "    (module): LSTM(1152, 1152, batch_first=True)\n",
              "  )\n",
              "  (1): RNNDropout()\n",
              "), Sequential(\n",
              "  (0): WeightDropout(\n",
              "    (module): LSTM(1152, 400, batch_first=True)\n",
              "  )\n",
              "  (1): RNNDropout()\n",
              "), Sequential(\n",
              "  (0): PoolingLinearClassifier(\n",
              "    (layers): Sequential(\n",
              "      (0): BatchNorm1d(1200, eps=1e-05, momentum=0.1, affine=True, track_running_stats=True)\n",
              "      (1): Dropout(p=0.12, inplace=False)\n",
              "      (2): Linear(in_features=1200, out_features=50, bias=True)\n",
              "      (3): ReLU(inplace=True)\n",
              "      (4): BatchNorm1d(50, eps=1e-05, momentum=0.1, affine=True, track_running_stats=True)\n",
              "      (5): Dropout(p=0.1, inplace=False)\n",
              "      (6): Linear(in_features=50, out_features=26, bias=True)\n",
              "    )\n",
              "  )\n",
              ")], add_time=True, silent=False)"
            ]
          },
          "metadata": {
            "tags": []
          },
          "execution_count": 18
        }
      ]
    },
    {
      "cell_type": "code",
      "metadata": {
        "colab": {
          "base_uri": "https://localhost:8080/",
          "height": 169
        },
        "id": "yhAGegYI328R",
        "outputId": "1f0bfce7-fe40-4602-ad53-ff0f6d6017cb"
      },
      "source": [
        "classifier.fit_one_cycle(4, 1e-2)"
      ],
      "execution_count": 19,
      "outputs": [
        {
          "output_type": "display_data",
          "data": {
            "text/html": [
              "<table border=\"1\" class=\"dataframe\">\n",
              "  <thead>\n",
              "    <tr style=\"text-align: left;\">\n",
              "      <th>epoch</th>\n",
              "      <th>train_loss</th>\n",
              "      <th>valid_loss</th>\n",
              "      <th>accuracy</th>\n",
              "      <th>time</th>\n",
              "    </tr>\n",
              "  </thead>\n",
              "  <tbody>\n",
              "    <tr>\n",
              "      <td>0</td>\n",
              "      <td>3.612119</td>\n",
              "      <td>#na#</td>\n",
              "      <td>00:00</td>\n",
              "    </tr>\n",
              "    <tr>\n",
              "      <td>1</td>\n",
              "      <td>3.508426</td>\n",
              "      <td>#na#</td>\n",
              "      <td>00:00</td>\n",
              "    </tr>\n",
              "    <tr>\n",
              "      <td>2</td>\n",
              "      <td>3.501110</td>\n",
              "      <td>#na#</td>\n",
              "      <td>00:00</td>\n",
              "    </tr>\n",
              "    <tr>\n",
              "      <td>3</td>\n",
              "      <td>3.494276</td>\n",
              "      <td>#na#</td>\n",
              "      <td>00:00</td>\n",
              "    </tr>\n",
              "  </tbody>\n",
              "</table>"
            ],
            "text/plain": [
              "<IPython.core.display.HTML object>"
            ]
          },
          "metadata": {
            "tags": []
          }
        }
      ]
    }
  ]
}